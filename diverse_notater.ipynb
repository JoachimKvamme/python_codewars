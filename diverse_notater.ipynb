{
 "cells": [
  {
   "cell_type": "code",
   "execution_count": 6,
   "id": "cdc128a5",
   "metadata": {},
   "outputs": [
    {
     "data": {
      "text/plain": [
       "[1, 1, 2, 1, 3, 0, 0]"
      ]
     },
     "execution_count": 6,
     "metadata": {},
     "output_type": "execute_result"
    }
   ],
   "source": [
    "new_list = [x for x in range(1, 10) if x % 2 == 0]\n",
    "new_list\n",
    "\n",
    "zeroList = [1, 0, 1, 2, 0, 1, 3]\n",
    "\n",
    "nonZeroList = [x for x in zeroList if x != 0]\n",
    "nonZeroList\n",
    "for x in range(0, zeroList.count(0)):\n",
    "    nonZeroList.append(0)\n",
    "nonZeroList"
   ]
  },
  {
   "cell_type": "code",
   "execution_count": null,
   "id": "259e8679",
   "metadata": {},
   "outputs": [
    {
     "data": {
      "text/plain": [
       "1"
      ]
     },
     "execution_count": 3,
     "metadata": {},
     "output_type": "execute_result"
    }
   ],
   "source": [
    "tic_tac = [[1,2,1], [0, 1, 2], [1, 2, 0]]\n",
    "\n",
    "\n",
    "def is_solved(tic_tac):\n",
    "    OneDGame = []\n",
    "\n",
    "    for i in tic_tac:\n",
    "        for x in i:\n",
    "            OneDGame.append(x)\n",
    "\n",
    "    if OneDGame[0] == 1 and OneDGame[1] == 1 and OneDGame[2] == 1:\n",
    "        return 1\n",
    "    if OneDGame[3] == 1 and OneDGame[4] == 1 and OneDGame[5] == 1:\n",
    "        return 1\n",
    "    if OneDGame[6] == 1 and OneDGame[7] == 1 and OneDGame[8] == 1:\n",
    "        return 1\n",
    "    if OneDGame[0] == 1 and OneDGame[3] == 1 and OneDGame[6] == 1:\n",
    "        return 1\n",
    "    if OneDGame[1] == 1 and OneDGame[4] == 1 and OneDGame[7] == 1:\n",
    "        return 1\n",
    "    if OneDGame[2] == 1 and OneDGame[5] == 1 and OneDGame[8] == 1:\n",
    "        return 1\n",
    "    if OneDGame[2] == 1 and OneDGame[4] == 1 and OneDGame[6] == 1:\n",
    "        return 1\n",
    "    if OneDGame[0] == 1 and OneDGame[4] == 1 and OneDGame[8] == 1:\n",
    "        return 1\n",
    "    \n",
    "    if OneDGame[0] == 2 and OneDGame[1] == 2 and OneDGame[2] == 2:\n",
    "        return 2\n",
    "    if OneDGame[3] == 2 and OneDGame[4] == 2 and OneDGame[5] == 2:\n",
    "        return 2\n",
    "    if OneDGame[6] == 2 and OneDGame[7] == 2 and OneDGame[8] == 2:\n",
    "        return 2\n",
    "    if OneDGame[0] == 2 and OneDGame[3] == 2 and OneDGame[6] == 2:\n",
    "        return 2\n",
    "    if OneDGame[1] == 2 and OneDGame[4] == 2 and OneDGame[7] == 2:\n",
    "        return 2\n",
    "    if OneDGame[2] == 2 and OneDGame[5] == 2 and OneDGame[8] == 2:\n",
    "        return 2\n",
    "    if OneDGame[2] == 2 and OneDGame[4] == 2 and OneDGame[6] == 2:\n",
    "        return 2\n",
    "    if OneDGame[0] == 2 and OneDGame[4] == 2 and OneDGame[8] == 2:\n",
    "        return 2\n",
    "    \n",
    "    if OneDGame.count(0) > 0:\n",
    "        return 0\n",
    "    return -1\n",
    "\n",
    "is_solved(tic_tac)\n"
   ]
  }
 ],
 "metadata": {
  "kernelspec": {
   "display_name": ".venv",
   "language": "python",
   "name": "python3"
  },
  "language_info": {
   "codemirror_mode": {
    "name": "ipython",
    "version": 3
   },
   "file_extension": ".py",
   "mimetype": "text/x-python",
   "name": "python",
   "nbconvert_exporter": "python",
   "pygments_lexer": "ipython3",
   "version": "3.13.2"
  }
 },
 "nbformat": 4,
 "nbformat_minor": 5
}

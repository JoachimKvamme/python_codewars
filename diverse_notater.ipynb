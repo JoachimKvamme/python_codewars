{
 "cells": [
  {
   "cell_type": "code",
   "execution_count": 6,
   "id": "cdc128a5",
   "metadata": {},
   "outputs": [
    {
     "data": {
      "text/plain": [
       "[1, 1, 2, 1, 3, 0, 0]"
      ]
     },
     "execution_count": 6,
     "metadata": {},
     "output_type": "execute_result"
    }
   ],
   "source": [
    "new_list = [x for x in range(1, 10) if x % 2 == 0]\n",
    "new_list\n",
    "\n",
    "zeroList = [1, 0, 1, 2, 0, 1, 3]\n",
    "\n",
    "nonZeroList = [x for x in zeroList if x != 0]\n",
    "nonZeroList\n",
    "for x in range(0, zeroList.count(0)):\n",
    "    nonZeroList.append(0)\n",
    "nonZeroList"
   ]
  }
 ],
 "metadata": {
  "kernelspec": {
   "display_name": ".venv",
   "language": "python",
   "name": "python3"
  },
  "language_info": {
   "codemirror_mode": {
    "name": "ipython",
    "version": 3
   },
   "file_extension": ".py",
   "mimetype": "text/x-python",
   "name": "python",
   "nbconvert_exporter": "python",
   "pygments_lexer": "ipython3",
   "version": "3.13.2"
  }
 },
 "nbformat": 4,
 "nbformat_minor": 5
}
